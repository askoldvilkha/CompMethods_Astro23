{
 "cells": [
  {
   "cell_type": "markdown",
   "metadata": {},
   "source": [
    "# Computational Methods for Astrophysics, Homework #4, Askold Vilkha"
   ]
  },
  {
   "cell_type": "code",
   "execution_count": null,
   "metadata": {},
   "outputs": [],
   "source": []
  },
  {
   "cell_type": "code",
   "execution_count": null,
   "metadata": {},
   "outputs": [],
   "source": []
  },
  {
   "cell_type": "markdown",
   "metadata": {},
   "source": []
  },
  {
   "cell_type": "code",
   "execution_count": null,
   "metadata": {},
   "outputs": [],
   "source": [
    "# import libraries\n",
    "import numpy as np\n",
    "import matplotlib.pyplot as plt"
   ]
  },
  {
   "cell_type": "markdown",
   "metadata": {},
   "source": [
    "# Exercise 1, Adams-Bashforth method vs RK4 for 2 body Newtonian problem"
   ]
  },
  {
   "cell_type": "markdown",
   "metadata": {},
   "source": []
  },
  {
   "cell_type": "code",
   "execution_count": null,
   "metadata": {},
   "outputs": [],
   "source": [
    "def Adams_Bashorth_step(func, t_0: float, y_0: float, h: float, four_step: bool = True):\n",
    "    '''\n",
    "    This function completes one step of Adams-Bashforth method. Depending on the input, it can be 4-step or 5-step method.\n",
    "\n",
    "    Parameters:\n",
    "    ----------\n",
    "    func (function): \n",
    "        function to solve, dy/dt = func(t, y). Should be the function of two variables.\n",
    "    t_0 (float):\n",
    "        initial time\n",
    "    y_0 (float):\n",
    "        initial value\n",
    "    h (float):\n",
    "        step size\n",
    "    four_step (bool):\n",
    "        if True, 4-step method is used, else 5-step method is used\n",
    "    '''\n",
    "    if h <= 0:\n",
    "        raise ValueError(h, 'step size h should be positive')\n",
    "\n",
    "    y_1 = y_0 + h * func(t_0, y_0)\n",
    "    y_2 = y_1 + h * (3 / 2 * func(t_0 + h, y_1) - 1 / 2 * func(t_0, y_0))\n",
    "    y_3 = y_2 + h * (23 / 12 * func(t_0 + 2 * h, y_2) - 4 / 3 * func(t_0 + h, y_1) + 5 / 12 * func(t_0, y_0))\n",
    "    y_4 = y_3 + h * (55 / 24 * func(t_0 + 3 * h, y_3) - 59 / 24 * func(t_0 + 2 * h, y_2) + 37 / 24 * func(t_0 + h, y_1) - 3 / 8 * func(t_0, y_0))\n",
    "    t_res = t_0 + 4 * h\n",
    "    y_res = y_4\n",
    "\n",
    "    if not four_step:\n",
    "        y_5 = y_4 + h * (1901 / 720 * func(t_0 + 4 * h, y_4) - 1387 / 360 * func(t_0 + 3 * h, y_3) + 109 / 30 * func(t_0 + 2 * h, y_2) - 637 / 360 * func(t_0 + h, y_1) + 251 / 720 * func(t_0, y_0))\n",
    "        t_res = t_0 + 5 * h\n",
    "        y_res = y_5\n",
    "    \n",
    "    return t_res, y_res"
   ]
  }
 ],
 "metadata": {
  "kernelspec": {
   "display_name": "base",
   "language": "python",
   "name": "python3"
  },
  "language_info": {
   "codemirror_mode": {
    "name": "ipython",
    "version": 3
   },
   "file_extension": ".py",
   "mimetype": "text/x-python",
   "name": "python",
   "nbconvert_exporter": "python",
   "pygments_lexer": "ipython3",
   "version": "3.9.13"
  },
  "orig_nbformat": 4
 },
 "nbformat": 4,
 "nbformat_minor": 2
}
