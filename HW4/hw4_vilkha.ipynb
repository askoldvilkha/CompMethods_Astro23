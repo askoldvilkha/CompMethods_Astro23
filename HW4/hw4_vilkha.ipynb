{
 "cells": [
  {
   "cell_type": "markdown",
   "metadata": {},
   "source": [
    "# Computational Methods for Astrophysics, Homework #4, Askold Vilkha, Taylor Paul, Clive Binu"
   ]
  },
  {
   "cell_type": "code",
   "execution_count": 3,
   "metadata": {},
   "outputs": [],
   "source": [
    "# import libraries\n",
    "import numpy as np\n",
    "import matplotlib.pyplot as plt\n",
    "import time"
   ]
  },
  {
   "cell_type": "code",
   "execution_count": null,
   "metadata": {},
   "outputs": [],
   "source": [
    "import time\n",
    "\n",
    "# start the timer\n",
    "start_time = time.time()\n",
    "\n",
    "# your code here\n",
    "# ...\n",
    "\n",
    "# stop the timer\n",
    "end_time = time.time()\n",
    "\n",
    "# calculate the elapsed time\n",
    "elapsed_time = end_time - start_time\n",
    "\n",
    "# print the elapsed time\n",
    "print(f\"Elapsed time: {elapsed_time:.2f} seconds\")"
   ]
  },
  {
   "cell_type": "markdown",
   "metadata": {},
   "source": [
    "# Exercise 1, Adams-Bashforth method vs RK4 for 2 body Newtonian problem"
   ]
  },
  {
   "cell_type": "markdown",
   "metadata": {},
   "source": [
    "In this problem, we are going to use Adams-Bashforth method to solve the 2 body Newtonian problem. We will compare the results with the RK4 method. We have alreasy used the RK4 method in the previous homework, so we will use the same code here. (`RK4_step`, `RK4_iterative`) Also, Newtonian 2-body problem is a reduced version of the 3-body problem, so we will slightly modify the code from the previous homework to solve the 2-body problem. Specifically, we will remove the third body from the corresponding function and modify the acceleration function accordingly.\n",
    "\n",
    "Adams-Bashforth method is one of the multistep methods, so it may need several initial points to start the integration. We might use the previous Adams-Bashforth steps to generate next initial points from the given ones. However, it can significantly reduce accuracy, since every time we autogenerate the points, we introduce some error. So, we will use the RK4 method to generate the initial points for the Adams-Bashforth method. We will also compare the results obtained with auto-generated initial points and with the initial points obtained with the RK4 method to see how significant the introduced error is.\n",
    "\n",
    "Adams-Bashforth method steps are defined as follows:\n",
    "$$y_{n+1} = y_n + h f(t_n, y_n) ;\\, \\\\\n",
    "y_{n+2} = y_{n+1} + h \\left( \\frac{3}{2} f(t_{n+1}, y_{n+1}) - \\frac{1}{2} f(t_n, y_n) \\right) ;\\, \\\\\n",
    "y_{n+3} = y_{n+2} + h \\left( \\frac{23}{12} f(t_{n+2}, y_{n+2}) - \\frac{4}{3} f(t_{n+1}, y_{n+1}) + \\frac{5}{12} f(t_n, y_n) \\right) ;\\, \\\\\n",
    "y_{n+4} = y_{n+3} + h \\left( \\frac{55}{24} f(t_{n+3}, y_{n+3}) - \\frac{59}{24} f(t_{n+2}, y_{n+2}) + \\frac{37}{24} f(t_{n+1}, y_{n+1}) - \\frac{3}{8} f(t_n, y_n) \\right) ;\\, \\\\\n",
    "y_{n+5} = y_{n+4} + h \\left( \\frac{1901}{720} f(t_{n+4}, y_{n+4}) - \\frac{1387}{360} f(t_{n+3}, y_{n+3}) + \\frac{109}{30} f(t_{n+2}, y_{n+2}) - \\frac{637}{360} f(t_{n+1}, y_{n+1}) + \\frac{251}{720} f(t_n, y_n) \\right) ;\\, \\\\\n",
    "$$\n",
    "Here, $y_n$ is the value of the function at the $n$-th step, $h$ is the step size, $f(t_n, y_n)$ is the derivative of the function at the $n$-th step. \n",
    "\n",
    "In our test case, we will use the 4-step method, since it has the same order of accuracy as the RK4 method. However, user still can choose the number of steps to use, as well as if the code should autogenerate the initial points or use the RK4 method to generate them.\n",
    "Adams-Bashforth method is implemented in `Adams_Bashforth_step` function. Autogenerative method with option to choose RK4 or Adams-Bashforth algorithm for autogeneration is implemented in `Adams_Bashforth_autogenerative` function."
   ]
  },
  {
   "cell_type": "code",
   "execution_count": 65,
   "metadata": {},
   "outputs": [],
   "source": [
    "def Adams_Bashforth_step(func, t_0: float or list, y_0: float or list, h: float = 1e-3):\n",
    "    '''\n",
    "    This function completes a single step of the Adams-Bashforth method. User has to provide the initial values of the function and step size. \n",
    "    If multiple initial values are provided, the function assumes the length of the list to be equal to the number of steps.\n",
    "\n",
    "    Parameters\n",
    "    ----------\n",
    "    func : function\n",
    "        function to solve, dy/dt = func(t, y). Should be the function of two variables.\n",
    "    t_0 : float or list\n",
    "        initial value of t. If multiple initial values are provided, the function assumes the length of the list to be equal to the number of steps.\n",
    "    y_0 : float or list\n",
    "        initial value of y. If multiple initial values are provided, the function assumes the length of the list to be equal to the number of steps.\n",
    "    h : float\n",
    "        step size. The default is 1e-3.\n",
    "    \n",
    "    Returns\n",
    "    -------\n",
    "    t_res : float\n",
    "        resulting value of t. Will be equal to the last value of `t_0` + h.\n",
    "    y_res : float\n",
    "        resulting value of y. Corresponds to the resulting value of `t_res`.\n",
    "\n",
    "    Raises\n",
    "    ------\n",
    "    ValueError\n",
    "        if `h` is not positive.\n",
    "    TypeError\n",
    "        if `t_0` and `y_0` are not of the same type.\n",
    "    ValueError\n",
    "        if the length of `t_0` and `y_0` is not equal.\n",
    "    ValueError\n",
    "        if the number of steps is not in range [1, 5].\n",
    "    '''\n",
    "    if h <= 0:\n",
    "        raise ValueError(h, 'step size h should be positive')\n",
    "    if type(t_0) != type(y_0):\n",
    "        raise TypeError('t_0 and y_0 should be of the same type')\n",
    " \n",
    "    # this block checks if the initial values input is valid and makes it possible to pass a single value\n",
    "    try:\n",
    "        if len(t_0) != len(y_0):\n",
    "            raise ValueError('initial values should be of the same length')\n",
    "    except TypeError:\n",
    "        # TypeError will occur if t_0 and y_0 are not iterable, i. e. they are single values\n",
    "        t_0 = [t_0]\n",
    "        y_0 = [y_0]\n",
    "    \n",
    "    n_steps = len(y_0)\n",
    "    if n_steps not in np.arange(1, 6):\n",
    "        raise ValueError(n_steps, 'number of steps should be in range [1, 5]')\n",
    "    \n",
    "    \n",
    "    # this block calculates the result depending on the desired number of steps\n",
    "    t_res = t_0[-1] + h\n",
    "    if n_steps == 1:\n",
    "        y_res = y_0[0] + h * func(t_0[0], y_0[0])\n",
    "    elif n_steps == 2:\n",
    "        y_res = y_0[1] + h * (3/2 * func(t_0[1], y_0[1]) - 1/2 * func(t_0[0], y_0[0]))\n",
    "    elif n_steps == 3:\n",
    "        y_res = y_0[2] + h * (23/12 * func(t_0[2], y_0[2]) - 4/3 * func(t_0[1], y_0[1]) + 5/12 * func(t_0[0], y_0[0]))\n",
    "    elif n_steps == 4:\n",
    "        y_res = y_0[3] + h * (55/24 * func(t_0[3], y_0[3]) - 59/24 * func(t_0[2], y_0[2]) + 37/24 * func(t_0[1], y_0[1]) - 3/8 * func(t_0[0], y_0[0]))\n",
    "    elif n_steps == 5:\n",
    "        y_res = y_0[4] + h * (1901/720 * func(t_0[4], y_0[4]) - 1387/360 * func(t_0[3], y_0[3]) + 109/30 * func(t_0[2], y_0[2]) - 637/360 * func(t_0[1], y_0[1]) + 251/720 * func(t_0[0], y_0[0]))\n",
    "    \n",
    "    return t_res, y_res"
   ]
  },
  {
   "cell_type": "code",
   "execution_count": 68,
   "metadata": {},
   "outputs": [],
   "source": [
    "def RK4_step(func, x_0: float, y_0: float, h: float = 1e-3):\n",
    "    '''\n",
    "    This function calculates a single step of the Runge-Kutta 4th order method.\n",
    "\n",
    "    Parameters\n",
    "    ----------\n",
    "    func : function\n",
    "        The function that defines the differential equation y' = f(x, y). Must require 2 arguments x, y.\n",
    "    x_0 : float\n",
    "        The initial value of x.\n",
    "    y_0 : float\n",
    "        The initial value of y.\n",
    "    h : float\n",
    "        The step size. Must be positive. The default is 1e-3.\n",
    "\n",
    "    Returns\n",
    "    -------\n",
    "    x_1 : float\n",
    "        The value of x at x_0 + h.\n",
    "    y_1 : float\n",
    "        The value of y at x_0 + h.\n",
    "\n",
    "    Raises\n",
    "    ------\n",
    "    ValueError\n",
    "        If `h` is not positive.\n",
    "    '''\n",
    "    if h <= 0:\n",
    "        raise ValueError(h, 'step size h should be positive')\n",
    "\n",
    "    # RK coefficients k1, k2, k3, k4\n",
    "    k_1 = func(x_0, y_0)\n",
    "    k_2 = func(x_0 + h / 2, y_0 + h * k_1 / 2)\n",
    "    k_3 = func(x_0 + h / 2, y_0 + h * k_2 / 2)\n",
    "    k_4 = func(x_0 + h, y_0 + h * k_3)\n",
    "\n",
    "    # resulting approximation of the step\n",
    "    x_1 = x_0 + h\n",
    "    y_1 = y_0 + (h / 6) * (k_1 + 2 * k_2 + 2 * k_3 + k_4)\n",
    "\n",
    "    return x_1, y_1"
   ]
  },
  {
   "cell_type": "code",
   "execution_count": 192,
   "metadata": {},
   "outputs": [],
   "source": [
    "def RK4_iterative(func, bracket: list, x_0: float, y_0: float, h: float = 1e-3):\n",
    "    '''\n",
    "    This function solves the differential equation y' = f(x, y) using the Runge-Kutta 4th order method on the interval `[bracket[0], bracket[1]]` with step size `h`.\n",
    "\n",
    "    Parameters\n",
    "    ----------\n",
    "    func : function\n",
    "        The function that defines the differential equation y' = f(x, y). Must require 2 arguments x, y.\n",
    "    bracket : list\n",
    "        The interval of the solution.\n",
    "    x_0 : float\n",
    "        The initial value of x. \n",
    "    y_0 : float\n",
    "        The initial value of y. If the user wants to work with vector function, this should be a np.array.\n",
    "    h : float\n",
    "        The step size. Must be positive. The default is 1e-3.\n",
    "    \n",
    "    Returns\n",
    "    -------\n",
    "    x_res : numpy.ndarray\n",
    "        The array of x values.\n",
    "    y_res : numpy.ndarray\n",
    "        The array of y values.\n",
    "    '''\n",
    "    # initialize working variables\n",
    "    n_steps = int((bracket[1] - bracket[0]) / h) + 1\n",
    "    x_res = np.zeros(n_steps)\n",
    "    # if the input for y_0 is a vector, the resulting array will have subarrays of the same shape for each step\n",
    "    if type(y_0) == np.ndarray:\n",
    "        shape = [n_steps]\n",
    "        for i in range(len(y_0.shape)):\n",
    "            shape.append(y_0.shape[i])\n",
    "        y_res = np.zeros((shape))\n",
    "    else:\n",
    "        y_res = np.zeros(n_steps)\n",
    "\n",
    "    # set initial values\n",
    "    x_res[0] = x_0\n",
    "    y_res[0] = y_0\n",
    "\n",
    "    # main RK4 algorithm\n",
    "    for i in range(1, n_steps):\n",
    "        x_res[i], y_res[i] = RK4_step(func, x_res[i - 1], y_res[i - 1], h)\n",
    "\n",
    "    return x_res, y_res"
   ]
  },
  {
   "cell_type": "code",
   "execution_count": 399,
   "metadata": {},
   "outputs": [],
   "source": [
    "def Adams_Bashforth_autogenerative(func, t_0: float or list, y_0: float or list, n_steps: int, h: float = 1e-3, autogen: str = None, return_grid: bool = False):\n",
    "    '''\n",
    "    This function completes one step of Adams-Bashforth method. User provides the arrays with initial values `t_0` and `y_0`, step size `h` and number of steps `n_steps`. \n",
    "    If the array of initial values contains less points than `n_steps`, the function can autogenerate the missing values depending on the `autogen` parameter. \n",
    "    Initial values `t_0` and `y_0` should be in the format `[t_0, t_1, t_2, t_3, t_4]` and `[y_0, y_1, y_2, y_3, y_4]` respectively. \n",
    "\n",
    "    Parameters:\n",
    "    ----------\n",
    "    func : function \n",
    "        function to solve, dy/dt = func(t, y). Should be the function of two variables.\n",
    "    t_0 : float or list\n",
    "        initial time. Can be a float or an array of floats. \n",
    "    y_0 : float or list\n",
    "        initial value. Can be a float or an array of floats.\n",
    "    n_steps : int\n",
    "        number of steps, should be in range [1, 5]\n",
    "    h : float\n",
    "        step size. The default is 1e-3.\n",
    "    autogen: str\n",
    "        Can be 'RK4' or 'Adams_Bashforth'. If 'RK4' is provided, the function will use the Runge-Kutta method to autogenerate the missing values. \n",
    "        If 'Adams_Bashforth' is provided, the function will use the Adams-Bashforth method to autogenerate the missing values. The default is None. \n",
    "        If None is provided, the function will not autogenerate the missing values.\n",
    "    return_grid : bool\n",
    "        if True, the function will return the arrays of `t` and `y` values. The default is False. The resulting values will be appended to the initial arrays.\n",
    "    \n",
    "    Returns\n",
    "    -------\n",
    "    t_res : float\n",
    "        resulting value of t at the desired step.\n",
    "    y_res : float\n",
    "        resulting value of y at the desired step.\n",
    "    t : array\n",
    "        array of t values. Returned only if `return_grid` is True. Contains the initial values of `t_0` and the resulting value of `t_res`.\n",
    "    y : array\n",
    "        array of y values. Returned only if `return_grid` is True. Contains the initial values of `y_0` and the resulting value of `y_res`.\n",
    "    '''\n",
    "    if n_steps not in np.arange(1, 6):\n",
    "        raise ValueError(n_steps, 'number of steps should be in range [1, 5]')\n",
    "    if type(t_0) != type(y_0):\n",
    "        raise TypeError('t_0 and y_0 should be of the same type')\n",
    "    try:\n",
    "        if len(t_0) != len(y_0):\n",
    "            raise ValueError('initial values should be of the same length')\n",
    "        if len(y_0) != n_steps and autogen == None:\n",
    "            raise ValueError(y_0, 'initial value should be a vector of length n_steps')\n",
    "    except TypeError:\n",
    "        if n_steps != 1:\n",
    "            raise ValueError(y_0, 'initial value should be a vector of length n_steps')\n",
    "        t_0 = [t_0]\n",
    "        y_0 = [y_0]\n",
    "        \n",
    "    # initialize working arrays\n",
    "    t = np.zeros(n_steps)\n",
    "    if type(y_0[0]) == np.ndarray:\n",
    "        shape = [n_steps]\n",
    "        for i in range(len(y_0[0].shape)):\n",
    "            shape.append(y_0[0].shape[i])\n",
    "        y = np.zeros((shape))\n",
    "    else:\n",
    "        y = np.zeros(n_steps)\n",
    "\n",
    "    # autogenerate the missing values if needed\n",
    "    if autogen == 'RK4':\n",
    "        for i in range(n_steps):\n",
    "            try:\n",
    "                t[i] = t_0[i]\n",
    "                y[i] = y_0[i]\n",
    "            except IndexError:\n",
    "            # if IndexError is raised, we reach the point where we need to autogenerate the missing values\n",
    "                t[i], y[i] = RK4_step(func, t[i-1], y[i-1], h)\n",
    "    elif autogen == 'Adams_Bashforth':\n",
    "        for i in range(n_steps):\n",
    "            try:\n",
    "                t[i] = t_0[i]\n",
    "                y[i] = y_0[i]\n",
    "            except IndexError:\n",
    "                t[i], y[i] = Adams_Bashforth_step(func, t_0, y_0, h)\n",
    "                # we need to update the arrays of initial values so the next step of Adams-Bashforth method can be autogenerated\n",
    "                t_0 = t[:i+1]\n",
    "                y_0 = y[:i+1]\n",
    "    else: \n",
    "        t = t_0\n",
    "        y = y_0\n",
    "\n",
    "    # calculate the result\n",
    "    t_res, y_res = Adams_Bashforth_step(func, t, y, h)\n",
    "    \n",
    "    if return_grid:\n",
    "        t = np.append(t, t_res)\n",
    "        # we want to save the shape of y array if it is a vector\n",
    "        new_shape = [n_steps + 1]\n",
    "        for i in range(len(y.shape) - 1):\n",
    "            new_shape.append(y.shape[i + 1])\n",
    "        y = np.resize(y, (new_shape))\n",
    "        y[-1] = y_res\n",
    "        return t, y\n",
    "    else:\n",
    "        return t_res, y_res"
   ]
  },
  {
   "cell_type": "code",
   "execution_count": null,
   "metadata": {},
   "outputs": [],
   "source": [
    "Adams_Bashforth_autogenerative(func = Newton_grav_acceleration_iterative, t_0 = [0], y_0 = r_v_0_fix, h = 0.01, n_steps = 4, autogen = 'RK4', return_grid = True)"
   ]
  },
  {
   "cell_type": "code",
   "execution_count": null,
   "metadata": {},
   "outputs": [],
   "source": [
    "def Adams_Bashforth_iterative(func, bracket: list, t_0: float or list, y_0: float or list, n_steps: int, autogen: str, h: float = 1e-3, n_in_points: int = 1):\n",
    "    # initialize working arrays\n",
    "    n_its = int((bracket[1] - bracket[0]) / h) + 1\n",
    "    t_res = np.zeros(n_its)\n",
    "    # we need to check if the input for y_0 is a vector\n",
    "    if n_in_points != 1:\n",
    "        y_0_test = y_0[0]\n",
    "    else:\n",
    "        y_0_test = y_0\n",
    "    # depending on the input for y_0, the resulting array will have subarrays of the same shape for each step\n",
    "    if type(y_0_test) == np.ndarray:\n",
    "        shape = [n_its]\n",
    "        for i in range(len(y_0_test.shape)):\n",
    "            shape.append(y_0_test.shape[i])\n",
    "        y_res = np.zeros((shape))\n",
    "    else:\n",
    "        y_res = np.zeros(n_its)\n",
    "    \n",
    "    # cn_in_points"
   ]
  },
  {
   "cell_type": "markdown",
   "metadata": {},
   "source": [
    "As a test case for our functions, we can solve a simple 1st order ODE, the same one that we used to test the RK4 method in the previous homework:\n",
    "$$y' = 5y - 3, \\quad y(2) = 1$$\n",
    "The solution is $y = \\frac{3}{5} + \\frac{2}{5} e^{5(t-2)}$. We will use the same initial points as in the previous homework, $x_0 = 2, y_0 = 1$, our step size will be $h = 0.1$. We will integrate it on the interval $[2, 3]$, so that means using 100 steps. We will use the 4-step Adams-Bashforth method. Normally, we would need to know 4 initial points, but our function `Adams_Bashforth_autogenerative` will generate them for us. We will use both Adams-Bashforth method with autogenerative initial points and with initial points generated with the RK4 method and compare the results. The results are shown in Fig. 1."
   ]
  },
  {
   "cell_type": "code",
   "execution_count": 142,
   "metadata": {},
   "outputs": [],
   "source": [
    "def test_ode_sol(x):\n",
    "    '''\n",
    "    This function calculates the exact solution of the differential equation dy/dx = 5y - 3\n",
    "    '''\n",
    "    return 3/5 + 2/5 * np.exp(5 * (x - 2))"
   ]
  },
  {
   "cell_type": "code",
   "execution_count": 152,
   "metadata": {},
   "outputs": [
    {
     "data": {
      "image/png": "[encoded data removed]",
      "text/plain": [
       "<Figure size 640x480 with 1 Axes>"
      ]
     },
     "metadata": {},
     "output_type": "display_data"
    }
   ],
   "source": [
    "# initialize the arrays to store results\n",
    "x_test_array_ab = np.zeros(100)\n",
    "y_test_array_ab = np.zeros(100)\n",
    "x_test_array_rk4 = np.zeros(100)\n",
    "y_test_array_rk4 = np.zeros(100)\n",
    "\n",
    "# initialize the initial values\n",
    "x_0_temp_ab = np.array([2])\n",
    "y_0_temp_ab = np.array([1])\n",
    "x_0_temp_rk4 = np.array([2])\n",
    "y_0_temp_rk4 = np.array([1])\n",
    "for i in range(100):\n",
    "    # calculate the solution using RK4 to generate the missing values\n",
    "    x_res_rk4, y_res_rk4 = Adams_Bashforth_autogenerative(func = lambda x, y: 5 * y - 3, t_0 = x_0_temp_rk4, y_0 = y_0_temp_rk4, h = 0.01, n_steps = 4, autogen = 'RK4', return_grid = True)\n",
    "    x_test_array_rk4[i] = x_res_rk4[-1]\n",
    "    y_test_array_rk4[i] = y_res_rk4[-1]\n",
    "    x_0_temp_rk4 = np.delete(x_res_rk4, 0)\n",
    "    y_0_temp_rk4 = np.delete(y_res_rk4, 0)\n",
    "\n",
    "    # calculate the solution using Adams-Bashforth to generate the missing values\n",
    "    x_res_ab, y_res_ab = Adams_Bashforth_autogenerative(func = lambda x, y: 5 * y - 3, t_0 = x_0_temp_ab, y_0 = y_0_temp_ab, h = 0.01, n_steps = 4, autogen = 'Adams_Bashforth', return_grid = True)\n",
    "    x_test_array_ab[i] = x_res_ab[-1]\n",
    "    y_test_array_ab[i] = y_res_ab[-1]\n",
    "    x_0_temp_ab = np.delete(x_res_ab, 0)\n",
    "    y_0_temp_ab = np.delete(y_res_ab, 0)\n",
    "\n",
    "# plot the results\n",
    "x_test_array = np.linspace(2, 3, 100)\n",
    "y_test_array = test_ode_sol(x_test_array)\n",
    "plt.plot(x_test_array, y_test_array, label = 'Exact solution')\n",
    "plt.plot(x_test_array_rk4, y_test_array_rk4, label = 'RK4')\n",
    "plt.plot(x_test_array_ab, y_test_array_ab, label = 'Adams-Bashforth')\n",
    "plt.xlim(2, 3)\n",
    "plt.xlabel('x'); plt.ylabel('y')\n",
    "plt.legend()\n",
    "plt.title(r'Fig. 1 Comparison of the solutions obtained with different starting values generation methods');"
   ]
  },
  {
   "cell_type": "markdown",
   "metadata": {},
   "source": [
    "As we can see, the results are almost identical. The difference is so small that it is not visible on the plot. On this simple test case, the difference on how we obtain the initial points is not significant. However, on more complex problems, the difference can be more significant. We have already seen that the for the Newton 3 body problem, the necessary tolerance was $10^{-8}$, so the step size was much smaller than here. However, this test proves that our code can solve ODEs with Adams-Bashforth method, so we can proceed to apply it to the actual 2 body Newtonian problem."
   ]
  },
  {
   "cell_type": "markdown",
   "metadata": {},
   "source": [
    "Now to define the 2 body problem in Newtonian gravity, we need to have the initial positions $r_1, r_2$ and masses $m_1, m_2$ of particles. From the Newtonian law of gravity: \n",
    "$$\\vec{F} = -G \\frac{m_1 m_2}{r^2} \\hat{r}$$\n",
    "and Newton's second law:\n",
    "$$\\vec{F} = m \\vec{a}$$\n",
    "we can obtain the following equations of motion:\n",
    "$$\\vec{a_1} = -G \\frac{m_2}{r^2} \\hat{r}  = -G \\frac{m_2}{r^3} \\vec{r_{12}};\\, \\\\\n",
    "\\vec{a_2} = -G \\frac{m_1}{r^3} \\vec{r_{21}} = G \\frac{m_1}{r^3} \\vec{r_{12}}$$\n",
    "This is implemented in the function `Newton_grav_acceleration`, which is the modified version of the same function for 3 body problem from Homework #3."
   ]
  },
  {
   "cell_type": "code",
   "execution_count": 196,
   "metadata": {},
   "outputs": [],
   "source": [
    "def Newton_grav_acceleration(m_array, t: float, r_v_array, G: float = 1):\n",
    "    '''\n",
    "    This function calculates the acceleration of the bodies in the Newtonian gravitational field for 2 body problem case. \n",
    "    Needs as input the array of positions and velocities of the bodies and their masses.\n",
    "\n",
    "    Parameters\n",
    "    ----------\n",
    "    t : float\n",
    "        time. Not used in this function, but required for the integration algorithm.\n",
    "    r_v_array : array\n",
    "        array of positions and velocities of the bodies. Should be in the format `[[r_1, r_2], [v_1, v_2]]`. \n",
    "        Each subarray `r_1`, `r_2`, `v_1`, `v_2` should be a vector of length 3.\n",
    "    m_array : array\n",
    "        array of masses of the bodies. Should be in the format `[m_1, m_2]`.\n",
    "    G : float\n",
    "        gravitational constant. The default is 1.\n",
    "    \n",
    "    Returns\n",
    "    -------\n",
    "    v_a_array : array\n",
    "        array of velocities and accelerations of the bodies. Returned in the format `[[v_1, v_2], [a_1, a_2]]`. \n",
    "        Each subarray `v_1`, `v_2`, `a_1`, `a_2` is a vector of length 3.\n",
    "    '''\n",
    "    # initialize the arrays\n",
    "    a_array = np.zeros((2, 3))\n",
    "    r_12 = np.zeros(3)\n",
    "    r_array = r_v_array[0]\n",
    "    v_array = r_v_array[1]\n",
    "\n",
    "    # calculate the distance between the bodies and acceleration of each body\n",
    "    r_12 = r_array[0] - r_array[1]\n",
    "    a_array[0] = -G * m_array[1] * r_12 / np.power(np.linalg.norm(r_12), 3)\n",
    "    a_array[1] = G * m_array[0] * r_12 / np.power(np.linalg.norm(r_12), 3)\n",
    "\n",
    "    # for simplicity of the integrating algorithm, this function returns the array of velocities and accelerations as the first and second derivatives of the position\n",
    "    v_a_array = np.array([v_array, a_array])\n",
    "    return v_a_array"
   ]
  },
  {
   "cell_type": "code",
   "execution_count": 376,
   "metadata": {},
   "outputs": [],
   "source": [
    "# define the initial values\n",
    "r_0 = np.array([[0, 0, 0], [1, 0, 0]])\n",
    "v_0 = np.array([[0, .5, 0], [0, -2, 0]])\n",
    "r_v_0 = np.array([r_0, v_0])\n",
    "m_array = np.array([2, 1])"
   ]
  },
  {
   "cell_type": "code",
   "execution_count": 377,
   "metadata": {},
   "outputs": [
    {
     "data": {
      "text/plain": [
       "array([[[ 0. ,  0. ,  0. ],\n",
       "        [ 1. ,  0. ,  0. ]],\n",
       "\n",
       "       [[ 0. ,  0.5,  0. ],\n",
       "        [ 0. , -2. ,  0. ]]])"
      ]
     },
     "execution_count": 377,
     "metadata": {},
     "output_type": "execute_result"
    }
   ],
   "source": [
    "r_v_0_fix = [r_v_0]\n",
    "r_v_0_fix[0]"
   ]
  },
  {
   "cell_type": "code",
   "execution_count": 401,
   "metadata": {},
   "outputs": [
    {
     "data": {
      "text/plain": [
       "(0.05,\n",
       " array([[[ 1.19678814e-03,  2.49547116e-02,  0.00000000e+00],\n",
       "         [ 9.97606424e-01, -9.99094232e-02,  0.00000000e+00]],\n",
       " \n",
       "        [[ 4.97313221e-02,  4.97020983e-01,  0.00000000e+00],\n",
       "         [-9.94626443e-02, -1.99404197e+00,  0.00000000e+00]]]))"
      ]
     },
     "execution_count": 401,
     "metadata": {},
     "output_type": "execute_result"
    }
   ],
   "source": [
    "Adams_Bashforth_step(func = Newton_grav_acceleration_iterative, t_0 = t_0, y_0 = y_0, h = 0.01)"
   ]
  },
  {
   "cell_type": "code",
   "execution_count": 314,
   "metadata": {},
   "outputs": [],
   "source": [
    "# since m_array is a positional argument, we will provide a modified function with a fixed m_array parameter to the integration algorithm\n",
    "Newton_grav_acceleration_iterative = lambda t, r_v: Newton_grav_acceleration(m_array, t, r_v)\n",
    "t_array_rk4, r_v_array_rk4 = RK4_iterative(func = Newton_grav_acceleration_iterative, bracket = [0, 100], x_0 = 0, y_0 = r_v_0, h = 0.01)"
   ]
  },
  {
   "cell_type": "code",
   "execution_count": 315,
   "metadata": {},
   "outputs": [
    {
     "data": {
      "text/plain": [
       "<matplotlib.legend.Legend at 0x7f9c04634d00>"
      ]
     },
     "execution_count": 315,
     "metadata": {},
     "output_type": "execute_result"
    },
    {
     "data": {
      "image/png": "[encoded data removed]",
      "text/plain": [
       "<Figure size 640x480 with 1 Axes>"
      ]
     },
     "metadata": {},
     "output_type": "display_data"
    }
   ],
   "source": [
    "r_array_rk4 = np.transpose(r_v_array_rk4, (1, 2, 3, 0))[0]\n",
    "plt.plot(r_array_rk4[0][0], r_array_rk4[0][1], label = 'Body 1')\n",
    "plt.plot(r_array_rk4[1][0], r_array_rk4[1][1], label = 'Body 2')\n",
    "plt.legend()"
   ]
  },
  {
   "cell_type": "markdown",
   "metadata": {},
   "source": [
    "# Exercise 2, Gauss-Seidel iterations"
   ]
  },
  {
   "cell_type": "code",
   "execution_count": null,
   "metadata": {},
   "outputs": [],
   "source": [
    "# GENERIC CODE FOR THE GAUSS-SEIDEL METHOD\n",
    "\n",
    "# define the system of linear equations\n",
    "A = np.array([[4, 1, 1], [2, 5, 2], [1, 1, 3]])\n",
    "b = np.array([4, 7, 3])\n",
    "\n",
    "# define the initial guess\n",
    "x0 = np.array([0, 0, 0])\n",
    "\n",
    "# define the maximum number of iterations\n",
    "max_iter = 100\n",
    "\n",
    "# define the tolerance\n",
    "tol = 1e-6\n",
    "\n",
    "# perform the Gauss-Seidel iterations\n",
    "x = x0.copy()\n",
    "for k in range(max_iter):\n",
    "    for i in range(len(x)):\n",
    "        x[i] = (b[i] - np.dot(A[i,:i], x[:i]) - np.dot(A[i,i+1:], x0[i+1:])) / A[i,i]\n",
    "    if np.linalg.norm(x - x0) < tol:\n",
    "        break\n",
    "    x0 = x.copy()\n",
    "\n",
    "# print the solution and number of iterations\n",
    "print(f\"Solution: {x}\")\n",
    "print(f\"Number of iterations: {k+1}\")"
   ]
  }
 ],
 "metadata": {
  "kernelspec": {
   "display_name": "base",
   "language": "python",
   "name": "python3"
  },
  "language_info": {
   "codemirror_mode": {
    "name": "ipython",
    "version": 3
   },
   "file_extension": ".py",
   "mimetype": "text/x-python",
   "name": "python",
   "nbconvert_exporter": "python",
   "pygments_lexer": "ipython3",
   "version": "3.9.13"
  },
  "orig_nbformat": 4
 },
 "nbformat": 4,
 "nbformat_minor": 2
}
