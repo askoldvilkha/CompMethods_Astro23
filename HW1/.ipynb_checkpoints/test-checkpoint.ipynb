{
 "cells": [
  {
   "cell_type": "markdown",
   "metadata": {},
   "source": [
    "Equal-spaced centered finite differencing method allows user to evaluate the derivative with a chosen order of accuracy. The method is based on Taylor expansion of the function, so we know the order of accuracy. In general, for this method we have to choose $N+1$ points for our stencil, where $N$ is the order of accuracy. Therefore, we will have $N/2$ points to the left of the test point on $x$ axis, $N/2$ points to the right, and one central test point $x_0$. Therefore, our stencil is $\\left\\{x_{-N/2},\\dots,x_0,\\dots,x_{N/2}\\right\\}$. Here, $x_n = x_0 + n*h$. Note, that for this method $N$ has to be even, in other case, we will have to either skip the test point, or not have a symmetric stencil, which is contrary to method's main idea. Odd orders of accuracy are allowed for forward and backward finite difference methods. They require $N$ points to the right or left from the test point $x_0$, and do not require symmetry. $\\\\$\n",
    "As an example, on Fig. 8"
   ]
  },
  {
   "cell_type": "code",
   "execution_count": 1,
   "metadata": {},
   "outputs": [],
   "source": [
    "import numpy"
   ]
  },
  {
   "cell_type": "markdown",
   "metadata": {},
   "source": [
    "![Alternative-text](finite-diff_rescaled.png)\n",
    "$$\n",
    "\\text{Fig. 8 Different types of finite differencing}\n",
    "$$"
   ]
  }
 ],
 "metadata": {
  "kernelspec": {
   "display_name": "Python 3 (ipykernel)",
   "language": "python",
   "name": "python3"
  },
  "language_info": {
   "codemirror_mode": {
    "name": "ipython",
    "version": 3
   },
   "file_extension": ".py",
   "mimetype": "text/x-python",
   "name": "python",
   "nbconvert_exporter": "python",
   "pygments_lexer": "ipython3",
   "version": "3.9.13"
  }
 },
 "nbformat": 4,
 "nbformat_minor": 2
}
