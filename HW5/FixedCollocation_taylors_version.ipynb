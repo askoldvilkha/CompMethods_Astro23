{
 "cells": [
  {
   "cell_type": "markdown",
   "id": "5a616272",
   "metadata": {},
   "source": [
    "Below is a copy of the original code provided by Dr. Yosef Zlochower."
   ]
  },
  {
   "cell_type": "code",
   "execution_count": 2,
   "id": "757342a1",
   "metadata": {},
   "outputs": [],
   "source": [
    "import numpy as np\n",
    "from matplotlib import pyplot as plt\n",
    "import chebyshev as cheby\n",
    "import scipy.linalg"
   ]
  },
  {
   "cell_type": "markdown",
   "id": "5fa7c2c1",
   "metadata": {},
   "source": [
    "We will solve the BVP\n",
    "\\begin{eqnarray}\n",
    "  y''(r) + \\frac{2}{r} y'(r) = - 4\\pi \\rho, \\quad 0 < r < r_{\\rm out}\\\\\n",
    "  y'(0) = 0,\\\\\n",
    "  r_{\\rm out} y'(r_{\\rm out}) + y(r_{\\rm out}) = 0 \n",
    "\\end{eqnarray}\n",
    " \n",
    " Here, we will use Chebyshev polynomials to construct y.\n",
    " $$ y(r) \\approx \\sum_{n=0}^{n_{\\rm max}} c_n T_n(x(r)), $$\n",
    " where $$x(r) = -1 + 2\\left(  \\frac{r-0}{r_{\\rm max} - 0}\\right) $$\n",
    " hence $$dx/dr = 2 / r_{\\rm max}$$\n",
    " \n",
    " We'll solve the above equations on Gauss-Lobatto grid with $n_{\\rm max} + 1$ points, the first and the last of these being the two end points of the domain.\n",
    "\n",
    "$$ y'(0) = 0 \\to  \\sum_{n=0}^{n_{\\rm max}} c_n T'_n(-1) dx/dr = 0,$$ \n",
    "\n",
    " $$ r_{\\rm out} y'(r_{\\rm out}) + y(r_{\\rm out}) = 0  \\to \n",
    "\\sum_{n=0}^{n_{\\rm max}} c_n \\left[r_{\\rm out} T'_n(1) dx/dr + T_n(1)\\right] = 0$$ \n",
    "\n",
    "\n",
    "$$ \\sum_{n=0}^{n_{\\rm max}} c_n(T''(x_i) (dx/dr)^2 + \\frac{2}{r_i} (dx/dr) T'(x_i) ) = - 4 \\pi \\rho(r_i), \\quad i= 1\\cdots n_{\\rm max} - 1\n",
    "$$\n",
    "\n",
    "All of these are equivalent to\n",
    "$$\n",
    "{\\bf J}{\\bf C} = {\\bf S},\n",
    "$$\n",
    "where ${\\bf C} = (c_0, c_1, \\cdots)^T$\n",
    "Hence ${\\bf C} = {\\bf J}^{-1} {\\bf S}$"
   ]
  },
  {
   "cell_type": "code",
   "execution_count": 3,
   "id": "ea9a6f42",
   "metadata": {},
   "outputs": [],
   "source": [
    "# Solve Ax = B using generic routines\n",
    "\n",
    "\n",
    "def SolveLinAlg(A, B):\n",
    "    \"\"\"\n",
    "    Solve the Matric problem Ax = B for x vial LU decomposition\n",
    "    \"\"\"\n",
    "    LU, P = scipy.linalg.lu_factor(A)\n",
    "    return scipy.linalg.lu_solve((LU, P), B)"
   ]
  },
  {
   "cell_type": "code",
   "execution_count": 4,
   "id": "96ea439e",
   "metadata": {},
   "outputs": [],
   "source": [
    "def rho(r):\n",
    "    rho_val = np.where(r<=1, 1-r, 0)\n",
    "    return rho_val"
   ]
  },
  {
   "cell_type": "code",
   "execution_count": 5,
   "id": "a02f522e",
   "metadata": {},
   "outputs": [],
   "source": [
    "Rin = 0.0\n",
    "Rout = 10.0\n",
    "\n",
    "\n",
    "def x_of_r(r):\n",
    "    return -1 + 2 * (r - Rin) / (Rout - Rin)\n",
    "\n",
    "\n",
    "def r_of_x(x):\n",
    "    return 0.5 * (x + 1) * (Rout - Rin) + Rin\n",
    "\n",
    "\n",
    "dxdr = 2.0 / (Rout - Rin)"
   ]
  },
  {
   "cell_type": "code",
   "execution_count": 6,
   "id": "7a2eb600",
   "metadata": {},
   "outputs": [],
   "source": [
    "Nmax = 500\n",
    "grid = cheby.GaussLobattoGrid(Nmax)\n",
    "r_grid = r_of_x(grid)\n",
    "J = np.zeros((Nmax + 1, Nmax + 1))\n",
    "\n",
    "# first  and last rows\n",
    "# Note the n of Tn is equal to the column number\n",
    "for col in range(Nmax + 1):\n",
    "    # r=0 boundary condition\n",
    "    J[0, col] = dxdr * cheby.ChebyshevTx(col, -1)\n",
    "\n",
    "    # outer BC\n",
    "    J[-1, col] = Rout * dxdr * cheby.ChebyshevTx(col, 1) + cheby.ChebyshevT(col, 1)\n",
    "\n",
    "S = -4 * np.pi * rho(r_grid)  # source term for 'most' of the grid\n",
    "\n",
    "S[0] = 0  # source terms on the boundaries\n",
    "S[-1] = 0\n",
    "\n",
    "# Enforcing solution in the interior points.\n",
    "for row in range(1, Nmax):\n",
    "    for col in range(Nmax + 1):\n",
    "        J[row, col] = (\n",
    "            dxdr ** 2 * cheby.ChebyshevTxx(col, grid[row])\n",
    "            + 2.0 / r_grid[row] * dxdr * cheby.ChebyshevTx(col, grid[row])\n",
    "        )"
   ]
  },
  {
   "cell_type": "code",
   "execution_count": 7,
   "id": "41b65cc2",
   "metadata": {},
   "outputs": [],
   "source": [
    "# obtain spectal coefficients by solving JC = S\n",
    "C = SolveLinAlg(J, S)"
   ]
  },
  {
   "cell_type": "code",
   "execution_count": 8,
   "id": "799b15c7",
   "metadata": {},
   "outputs": [],
   "source": [
    "# reconstruct solution on a fine grid\n",
    "\n",
    "test_grid = np.linspace(Rin + 1.0e-4, Rout - 1.0e-4, 500)\n",
    "x_grid = x_of_r(test_grid)\n",
    "\n",
    "solution = [cheby.ReconT(C, x) for x in x_grid]\n",
    "\n",
    "yp = np.array([cheby.ReconTx(C, x) for x in x_grid]) * dxdr\n",
    "ypp = np.array([cheby.ReconTxx(C, x) for x in x_grid]) * dxdr ** 2\n",
    "\n",
    "resid = ypp + 2 / test_grid * yp + 4 * np.pi * rho(test_grid)"
   ]
  },
  {
   "cell_type": "code",
   "execution_count": 9,
   "id": "ffc8c4c7",
   "metadata": {},
   "outputs": [
    {
     "data": {
      "text/plain": [
       "<matplotlib.legend.Legend at 0x25fde89fad0>"
      ]
     },
     "execution_count": 9,
     "metadata": {},
     "output_type": "execute_result"
    },
    {
     "data": {
      "image/png": "[encoded data removed]",
      "text/plain": [
       "<Figure size 640x480 with 1 Axes>"
      ]
     },
     "metadata": {},
     "output_type": "display_data"
    }
   ],
   "source": [
    "plt.plot(test_grid, solution, label=\"approximate\")\n",
    "plt.xlabel(\"r\")\n",
    "plt.legend()"
   ]
  },
  {
   "cell_type": "code",
   "execution_count": 10,
   "id": "942d401b",
   "metadata": {},
   "outputs": [
    {
     "data": {
      "text/plain": [
       "<matplotlib.legend.Legend at 0x25fdf23c310>"
      ]
     },
     "execution_count": 10,
     "metadata": {},
     "output_type": "execute_result"
    },
    {
     "data": {
      "image/png": "[encoded data removed]",
      "text/plain": [
       "<Figure size 640x480 with 1 Axes>"
      ]
     },
     "metadata": {},
     "output_type": "display_data"
    }
   ],
   "source": [
    "plt.plot(test_grid, resid, label=\"error\")\n",
    "plt.xlabel(\"r\")\n",
    "plt.legend()"
   ]
  },
  {
   "cell_type": "markdown",
   "id": "56a0f0e9",
   "metadata": {},
   "source": [
    "Here we solve the same problem using two grids that abut each other. We'll refer to these as the `left` and `right` domains. The `left` domain will be $0\\leq r \\leq r_s$ and the `right` domain will be $r_s\\leq r \\leq r_{\\rm out}$. (we'll take $r_s=1$ and $r_{\\rm out}=20$)\n",
    "\n",
    "On the `left` domain, we have\n",
    "$$ y_L(r) \\approx \\sum_{n=0}^{n_{\\rm L max}} c_n T_n(x_L(r)) $$\n",
    "and on the `right` domain we have\n",
    "$$ y_R(r) \\approx \\sum_{n=0}^{n_{\\rm R max}} d_n T_n(x_R(r)) $$\n",
    "\n",
    "Here $x_L(r)$ maps $[0,r_s]$ to $[-1,1]$ and\n",
    "$x_R(r)$ maps $[r_s,r_{\\rm out}]$ to $[-1,1]$.\n",
    "\n",
    "The resulting algebraic equations are:\n",
    "\n",
    "$$ y'(0) = 0 \\to  \\sum_{n=0}^{n_{\\rm L max}} c_n T'_n(-1) \\frac{dx_L}{dr} = 0,$$ \n",
    "\n",
    " $$ r_{\\rm out} y'(r_{\\rm out}) + y(r_{\\rm out}) = 0  \\to \n",
    "\\sum_{n=0}^{n_{\\rm R max}} d_n \\left[r_{\\rm out} T'_n(1) \\frac{dx_R}{dr} + T_n(1)\\right] = 0$$ \n",
    "$$ y_L(r_s) = y_R(r_s) \\to  \\sum_{n=0}^{n_{\\rm L max}} c_n T_n(1) -  \\sum_{n=0}^{n_{\\rm R max}} d_n T_n(-1) =  0 $$\n",
    "$$ y_L'(r_s) = y_R'(r_s) \\to  \\sum_{n=0}^{n_{\\rm L max}} c_n \\frac{dx_L}{dr} T'_n(1) -  \\sum_{n=0}^{n_{\\rm R max}} d_n \\frac{d x_R}{dr} T'_n(-1) =  0 $$\n",
    "\n",
    "$$ \\sum_{n=0}^{n_{\\rm L max}} c_n\\left[T_n''(x_i) (\\frac{dx_L}{dr})^2 + \\frac{2}{r_L(x_i)} (\\frac{dx_L}{dr}) T_n'(x_i) \\right] = - 4 \\pi \\rho(r_L(x_i)), \\quad i= 1\\cdots n_{\\rm L max} - 1 $$\n",
    "\n",
    "$$ \\sum_{n=0}^{n_{\\rm R max}} d_n\\left[T_n''(x_i) (\\frac{dx_R}{dr})^2 + \\frac{2}{r_R(x_i)} (\\frac{dx_R}{dr}) T_n'(x_i) \\right] = - 4 \\pi \\rho(r_R(x_i)), \\quad i= 1\\cdots n_{\\rm R max} - 1 $$\n",
    "\n",
    "These equations can be written in the form\n",
    "${\\bf J}{\\bf C} = {\\bf S}$, where ${\\bf J}$ is a block diagonal matrix, ${\\bf C}$ is the vector $(c_0, c_1,\\cdots, c_{nmaxL}, d_0, d_1, \\cdots, d_{nmaxR})$"
   ]
  },
  {
   "cell_type": "code",
   "execution_count": 11,
   "id": "ba767460",
   "metadata": {},
   "outputs": [],
   "source": [
    "Rin1 = 0.0\n",
    "Rout1 = 1.0\n",
    "Rin2 = 1.0\n",
    "Rout2 = 10.0\n",
    "\n",
    "\n",
    "def x_of_r1(r):\n",
    "    return -1 + 2 * (r - Rin1) / (Rout1 - Rin1)\n",
    "\n",
    "\n",
    "def r_of_x1(x):\n",
    "    return 0.5 * (x + 1) * (Rout1 - Rin1) + Rin1\n",
    "\n",
    "\n",
    "dxdr1 = 2.0 / (Rout1 - Rin1)\n",
    "\n",
    "\n",
    "def x_of_r2(r):\n",
    "    return -1 + 2 * (r - Rin2) / (Rout2 - Rin2)\n",
    "\n",
    "\n",
    "def r_of_x2(x):\n",
    "    return 0.5 * (x + 1) * (Rout2 - Rin2) + Rin2\n",
    "\n",
    "\n",
    "dxdr2 = 2.0 / (Rout2 - Rin2)"
   ]
  },
  {
   "cell_type": "code",
   "execution_count": 12,
   "id": "4098ade1",
   "metadata": {
    "scrolled": false
   },
   "outputs": [],
   "source": [
    "Nmax1 = 100\n",
    "Nmax2 = 60\n",
    "grid1 = cheby.GaussLobattoGrid(Nmax1)\n",
    "grid2 = cheby.GaussLobattoGrid(Nmax2)\n",
    "r_grid1 = r_of_x1(grid1)\n",
    "r_grid2 = r_of_x2(grid2)\n",
    "\n",
    "Ncollo1 = Nmax1 + 1\n",
    "Ncollo2 = Nmax2 + 1\n",
    "Ncollo_tot = Ncollo1 + Ncollo2\n",
    "J = np.zeros((Ncollo_tot, Ncollo_tot))\n",
    "\n",
    "\n",
    "# Construction Block Diagonal matrix. All elements not explicitly set are zero\n",
    "\n",
    "# Full first row and 'half' of the the last row of \"region 1\" and half of the\n",
    "# first row of \"region 2\"\n",
    "for col in range(Ncollo1):\n",
    "    # Inner BC\n",
    "    J[0, col] = dxdr1 * cheby.ChebyshevTx(col, -1)  # First row of region 1\n",
    "\n",
    "    # Consistency of solution at region interface\n",
    "    J[Nmax1, col] = cheby.ChebyshevT(col, 1)  # Last \"region 1 row\"\n",
    "\n",
    "    # consistency of derivative at region interface\n",
    "    J[Nmax1 + 1, col] = dxdr1 * cheby.ChebyshevTx(col, 1)  # first \"region 2 row\"\n",
    "\n",
    "# Full last row and the second 'half' of the the last row of \"region 1\" and\n",
    "# the second half of the  first row of \"region 2\"\n",
    "for j in range(Ncollo2):\n",
    "    col = j + Ncollo1\n",
    "    # Consistency of solution at region interface\n",
    "    J[Nmax1, col] = -cheby.ChebyshevT(j, -1)  # last \"region 1 row\"\n",
    "\n",
    "    # consistency of derivative at region interface\n",
    "    J[Nmax1 + 1, col] = -dxdr2 * cheby.ChebyshevTx(j, -1)  # first \"region 2 row\"\n",
    "\n",
    "    # outer boundary condition\n",
    "    J[-1, col] = Rout2 * dxdr2 * cheby.ChebyshevTx(j, 1) + cheby.ChebyshevT(j, 1)\n",
    "\n",
    "rbig = np.concatenate((r_grid1, r_grid2))\n",
    "S = -4 * np.pi * rho(rbig)  # source term for 'most' of the grid\n",
    "\n",
    "S[0] = 0  # source terms on the boundaries\n",
    "S[-1] = 0\n",
    "\n",
    "S[Nmax1] = 0  # source term at boundary between grids\n",
    "S[Nmax1 + 1] = 0  # source term at boundary between grids\n",
    "\n",
    "# Enforcing solution at interior of region 1. All elements\n",
    "# belonging to \"region 2\" are zero\n",
    "for row in range(1, Ncollo1 - 1):\n",
    "    for col in range(Ncollo1):\n",
    "        J[row, col] = (\n",
    "            dxdr1 ** 2 * cheby.ChebyshevTxx(col, grid1[row])\n",
    "            + 2.0 / r_grid1[ row ] * dxdr1 * cheby.ChebyshevTx(col, grid1[row])\n",
    "        )\n",
    "# Enforcing solution at interior of region 2\n",
    "# belonging to \"region 1\" are zero\n",
    "for i in range(1, Ncollo2 - 1):\n",
    "    for j in range(Ncollo2):\n",
    "        row = i + Ncollo1\n",
    "        col = j + Ncollo1\n",
    "        J[row, col] = (\n",
    "            dxdr2 ** 2 * cheby.ChebyshevTxx(j, grid2[i])\n",
    "            + 2.0 / r_grid2[i] * dxdr2 * cheby.ChebyshevTx(j, grid2[i])\n",
    "        )"
   ]
  },
  {
   "cell_type": "code",
   "execution_count": 13,
   "id": "542cd185",
   "metadata": {},
   "outputs": [],
   "source": [
    "C = SolveLinAlg(J, S)"
   ]
  },
  {
   "cell_type": "code",
   "execution_count": 14,
   "id": "b5e8b2e7",
   "metadata": {},
   "outputs": [],
   "source": [
    "test_grid1 = np.linspace(Rin1 + 1.0e-4, Rout1 - 1e-4, 500)\n",
    "x_grid1 = x_of_r1(test_grid1)\n",
    "test_grid2 = np.linspace(Rin2 + 1e-4, Rout2 - 1e-4, 500)\n",
    "x_grid2 = x_of_r2(test_grid2)\n",
    "\n",
    "solution1 = np.array([cheby.ReconT(C[0 : Nmax1 + 1], x) for x in x_grid1])\n",
    "solution2 = np.array([cheby.ReconT(C[Nmax1 + 1 :], x) for x in x_grid2])\n",
    "yp1 = np.array([cheby.ReconTx(C[0 : Nmax1 + 1], x) for x in x_grid1]) * dxdr1\n",
    "yp2 = np.array([cheby.ReconTx(C[Nmax1 + 1 :], x) for x in x_grid2]) * dxdr2\n",
    "ypp1 = np.array([cheby.ReconTxx(C[0 : Nmax1 + 1], x) for x in x_grid1]) * dxdr1 ** 2\n",
    "ypp2 = np.array([cheby.ReconTxx(C[Nmax1 + 1 :], x) for x in x_grid2]) * dxdr2 ** 2\n",
    "\n",
    "\n",
    "solution = np.concatenate((solution1, solution2))\n",
    "yp = np.concatenate((yp1, yp2))\n",
    "ypp = np.concatenate((ypp1, ypp2))\n",
    "\n",
    "grid = np.concatenate((test_grid1, test_grid2))\n",
    "resid = ypp + 2 / grid * yp + 4 * np.pi * rho(grid)"
   ]
  },
  {
   "cell_type": "code",
   "execution_count": 15,
   "id": "515dce89",
   "metadata": {},
   "outputs": [
    {
     "data": {
      "text/plain": [
       "<matplotlib.legend.Legend at 0x25ff43e62d0>"
      ]
     },
     "execution_count": 15,
     "metadata": {},
     "output_type": "execute_result"
    },
    {
     "data": {
      "image/png": "[encoded data removed]",
      "text/plain": [
       "<Figure size 640x480 with 1 Axes>"
      ]
     },
     "metadata": {},
     "output_type": "display_data"
    }
   ],
   "source": [
    "plt.plot(grid, solution, label=\"approximate\")\n",
    "plt.xlabel(\"r\")\n",
    "plt.legend()"
   ]
  },
  {
   "cell_type": "code",
   "execution_count": 16,
   "id": "3f8647ea",
   "metadata": {
    "scrolled": false
   },
   "outputs": [
    {
     "data": {
      "text/plain": [
       "<matplotlib.legend.Legend at 0x25ff41641d0>"
      ]
     },
     "execution_count": 16,
     "metadata": {},
     "output_type": "execute_result"
    },
    {
     "data": {
      "image/png": "[encoded data removed]",
      "text/plain": [
       "<Figure size 640x480 with 1 Axes>"
      ]
     },
     "metadata": {},
     "output_type": "display_data"
    }
   ],
   "source": [
    "plt.plot(grid, resid, label=\"error\")\n",
    "plt.xlabel(\"r\")\n",
    "plt.legend()"
   ]
  },
  {
   "cell_type": "markdown",
   "id": "2a88ead4",
   "metadata": {},
   "source": [
    "----"
   ]
  },
  {
   "cell_type": "markdown",
   "id": "d64e8f6b",
   "metadata": {},
   "source": [
    "Now, we are presented with a similar problem. We are solving the following problem: \n",
    "\\begin{eqnarray}\n",
    "  \\frac{d^2 \\psi}{dr^2} + \\frac{2}{r} \\frac{d \\psi}{dr} + 4\\pi \\rho(r) = 0, \\quad 0 < r < r_{\\rm max}\\\\\n",
    "  \\frac{d \\psi} {dr} = 0,\\\\\n",
    "  r_{\\rm max} \\frac{d \\psi}{dr} + \\psi(r_{\\rm max}) = 0,\\\\\n",
    "  \\rho(r) = \\left\\{\\begin{array}{lr} 1 & 0 \\leq r \\leq 1 \\\\\n",
    "                                      e^{-r+1} & r \\geq 1 \\end{array}\\right.\n",
    "\\end{eqnarray}\n",
    "\n",
    "The first domain we will consider is a single subdomain $[0, r_{\\rm max}]$."
   ]
  },
  {
   "cell_type": "markdown",
   "id": "6566f933",
   "metadata": {},
   "source": [
    "Now, we will consider a second domain consisting of two subdomains $[0,1]$ and $[1, r_{\\rm max}]$."
   ]
  },
  {
   "cell_type": "code",
   "execution_count": 18,
   "id": "9af3c362",
   "metadata": {},
   "outputs": [],
   "source": [
    "# what r_max did we chose? 10"
   ]
  },
  {
   "cell_type": "markdown",
   "id": "bea5c34b",
   "metadata": {},
   "source": [
    "This problem has an analytic solution. *write more about this later"
   ]
  },
  {
   "cell_type": "code",
   "execution_count": null,
   "id": "82c73daf",
   "metadata": {},
   "outputs": [],
   "source": []
  }
 ],
 "metadata": {
  "kernelspec": {
   "display_name": "Python 3 (ipykernel)",
   "language": "python",
   "name": "python3"
  },
  "language_info": {
   "codemirror_mode": {
    "name": "ipython",
    "version": 3
   },
   "file_extension": ".py",
   "mimetype": "text/x-python",
   "name": "python",
   "nbconvert_exporter": "python",
   "pygments_lexer": "ipython3",
   "version": "3.11.4"
  }
 },
 "nbformat": 4,
 "nbformat_minor": 5
}
